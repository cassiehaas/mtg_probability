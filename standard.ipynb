{
 "cells": [
  {
   "cell_type": "markdown",
   "metadata": {},
   "source": [
    "# Standard Probabilities\n",
    "\n",
    "Though there are many modes of playing Magic: The Gathering, Standard follows a few set rules. There is a minimum of 60 cards per deck, and at the start of each game, each player draws 7 cards. All cards are either lands, or require lands to play. Thus there is a required balance for each deck regarding the amount of lands necessary to cast. Too many, and there will be nothing to cast. You are left weak, and there is little game to be played. Too few lands, and you only get to gaze upon all of your options without being able to partake in any of them.\n",
    "\n",
    "Thus, this calculator hopes to solve this issue. 'Solve' is a misnomer, though. This calculator hopes to simulate probability distributions of land amounts in your opening hand given the distribution of card types in your deck."
   ]
  },
  {
   "cell_type": "code",
   "execution_count": 31,
   "metadata": {},
   "outputs": [],
   "source": [
    "import numpy as np\n",
    "import random as random\n",
    "\n",
    "class Deck:\n",
    "\n",
    "    # Initializes deck\n",
    "    # Assumes all card counts are 0\n",
    "    # Requires random, numpy library\n",
    "    \n",
    "    def __init__ (self, lands=0, creatures=0, sorceries=0, instants=0, enchantments=0, artifacts=0, others=0):\n",
    "        self.lands = lands\n",
    "        self.creatures = creatures\n",
    "        self.sorceries = sorceries\n",
    "        self.instants = instants\n",
    "        self.enchantments = enchantments\n",
    "        self.artifacts = artifacts\n",
    "        self.others = others        # I don't know what could go here, but better safe than sorry\n",
    "\n",
    "        # Creates draw pile - maybe change to set down the line?\n",
    "        self.library = []\n",
    "        # Creates separate list for cards that have been drawn\n",
    "        self.drawn = []\n",
    "\n",
    "        # Creates a dict and iterates through to generate the library\n",
    "        cardtypes = {'land':lands, 'creature':creatures, 'sorcery':sorceries, 'instant':instants, 'enchantment':enchantments, 'artifact':artifacts, 'other':others}\n",
    "\n",
    "        for key in cardtypes:\n",
    "            for i in np.arange(0, cardtypes[key]): # Gets length of each type, creates a list length n, where n is Deck.count()\n",
    "                self.library.append(key)\n",
    "\n",
    "    # Counts number of cards in deck, returns a warning if less than Standard 60 requirement\n",
    "    def count(self):\n",
    "        count = self.lands + self.creatures + self.sorceries + self.instants + self.enchantments + self.artifacts + self.others\n",
    "        if count < 60:\n",
    "            print('There are less than 60 cards in this deck.')\n",
    "            return count\n",
    "        return count\n",
    "    \n",
    "    # Shuffles library\n",
    "    def shuffle(self):\n",
    "        random.shuffle(self.library)\n",
    "\n",
    "    # Adds n items to self.drawn, deletes items from self.library\n",
    "    def draw(self, n=1):\n",
    "        for i in np.arange(0, n):\n",
    "            self.drawn.append(self.library[i])\n",
    "        del self.library[:n]\n",
    "\n",
    "    # Resets the library and reshuffles. Useful for simulations.\n",
    "    def reset(self):\n",
    "        self.library.extend(self.drawn)\n",
    "        del self.drawn[:]\n",
    "        self.shuffle()\n",
    "    \n",
    "    # Adds drawn to library, shuffles, draws 1 less card than 7 for each mulligan\n",
    "    # Set n to number of mulligans taken\n",
    "    def mulligan(self, n=1):\n",
    "        self.reset()        \n",
    "        draw_count = 7 - n\n",
    "        self.draw(draw_count)\n",
    "    \n",
    "    # Returns counts of drawn pile to be read in simulations \n",
    "    def record(self):\n",
    "        dict = {'land':0, 'creature':0, 'sorcery':0, 'instant':0, 'enchantment':0, 'artifact':0, 'other':0}\n",
    "        for i in self.drawn:\n",
    "            dict[i] = dict[i]+1\n",
    "        return dict\n",
    "\n"
   ]
  },
  {
   "cell_type": "markdown",
   "metadata": {},
   "source": [
    "Below, a deck 'y' is initialized. It is horribly built, but that will be represented. The deck is then shuffled, 7 cards are drawn and printed, then a mulligan is taken and the drawn cards are printed again."
   ]
  },
  {
   "cell_type": "code",
   "execution_count": 32,
   "metadata": {},
   "outputs": [
    {
     "name": "stdout",
     "output_type": "stream",
     "text": [
      "['enchantment', 'creature', 'instant', 'land', 'creature', 'creature', 'creature']\n",
      "['creature', 'enchantment', 'creature', 'instant', 'creature', 'creature']\n"
     ]
    }
   ],
   "source": [
    "y = Deck(lands = 5, enchantments = 10, creatures = 25, instants = 10)\n",
    "\n",
    "y.shuffle()\n",
    "y.draw(7)\n",
    "print(y.drawn)\n",
    "y.mulligan()\n",
    "print(y.drawn)\n"
   ]
  },
  {
   "cell_type": "markdown",
   "metadata": {},
   "source": [
    "Further, this information can be recorded to a dictionary to be read later."
   ]
  },
  {
   "cell_type": "code",
   "execution_count": 33,
   "metadata": {},
   "outputs": [
    {
     "data": {
      "text/plain": [
       "{'land': 0,\n",
       " 'creature': 4,\n",
       " 'sorcery': 0,\n",
       " 'instant': 1,\n",
       " 'enchantment': 1,\n",
       " 'artifact': 0,\n",
       " 'other': 0}"
      ]
     },
     "execution_count": 33,
     "metadata": {},
     "output_type": "execute_result"
    }
   ],
   "source": [
    "y.record()"
   ]
  },
  {
   "cell_type": "markdown",
   "metadata": {},
   "source": [
    "# Simulation\n",
    "\n",
    "For simulations, we are most interested in the number of lands in each deck. For general purpose, lets initialize a deck with 22 lands. This is a recommended number I recall reading in an official deckbuilder guide for the new Foundations set recently. The class comes with an attribute \"others\", which will account for all cards in our deck that are *not* lands."
   ]
  },
  {
   "cell_type": "code",
   "execution_count": null,
   "metadata": {},
   "outputs": [],
   "source": [
    "\n",
    "\n"
   ]
  }
 ],
 "metadata": {
  "kernelspec": {
   "display_name": "Python 3",
   "language": "python",
   "name": "python3"
  },
  "language_info": {
   "codemirror_mode": {
    "name": "ipython",
    "version": 3
   },
   "file_extension": ".py",
   "mimetype": "text/x-python",
   "name": "python",
   "nbconvert_exporter": "python",
   "pygments_lexer": "ipython3",
   "version": "3.12.3"
  }
 },
 "nbformat": 4,
 "nbformat_minor": 2
}
